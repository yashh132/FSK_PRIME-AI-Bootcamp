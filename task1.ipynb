{
  "nbformat": 4,
  "nbformat_minor": 0,
  "metadata": {
    "colab": {
      "provenance": []
    },
    "kernelspec": {
      "name": "python3",
      "display_name": "Python 3"
    },
    "language_info": {
      "name": "python"
    }
  },
  "cells": [
    {
      "cell_type": "markdown",
      "source": [
        "# Task 1: Python Proficiency Check – AI Bootcamp Prep"
      ],
      "metadata": {
        "id": "L982FdumDCVn"
      }
    },
    {
      "cell_type": "markdown",
      "source": [
        "## Section 1: Basics & Control Flow"
      ],
      "metadata": {
        "id": "gk9AwRFXDO6n"
      }
    },
    {
      "cell_type": "markdown",
      "source": [
        "### **Task 1**: FizzBuzz with a Twist\n",
        "\n",
        "*Instruction*: Write a function that prints numbers from 1 to 50. For multiples of 3, print \"AI\", for multiples of 5 print \"Bootcamp\", and for multiples of both 3 and 5 print \"AI Bootcamp\"."
      ],
      "metadata": {
        "id": "tG2LLFb4DSrf"
      }
    },
    {
      "cell_type": "code",
      "source": [
        "def ai_bootcamp_fizzbuzz():\n",
        "    for i in range(1, 51):\n",
        "        if i % 3 == 0 and i % 5 == 0:\n",
        "            print(\"AI Bootcamp\")\n",
        "        elif i % 3 == 0:\n",
        "            print(\"AI\")\n",
        "        elif i % 5 == 0:\n",
        "            print(\"Bootcamp\")\n",
        "        else:\n",
        "            print(i)\n",
        "\n",
        "ai_bootcamp_fizzbuzz()\n"
      ],
      "metadata": {
        "id": "G6YtbgenDSWH",
        "colab": {
          "base_uri": "https://localhost:8080/"
        },
        "outputId": "9505a799-4947-4651-b5d4-38081037bb68"
      },
      "execution_count": null,
      "outputs": [
        {
          "output_type": "stream",
          "name": "stdout",
          "text": [
            "1\n",
            "2\n",
            "AI\n",
            "4\n",
            "Bootcamp\n",
            "AI\n",
            "7\n",
            "8\n",
            "AI\n",
            "Bootcamp\n",
            "11\n",
            "AI\n",
            "13\n",
            "14\n",
            "AI Bootcamp\n",
            "16\n",
            "17\n",
            "AI\n",
            "19\n",
            "Bootcamp\n",
            "AI\n",
            "22\n",
            "23\n",
            "AI\n",
            "Bootcamp\n",
            "26\n",
            "AI\n",
            "28\n",
            "29\n",
            "AI Bootcamp\n",
            "31\n",
            "32\n",
            "AI\n",
            "34\n",
            "Bootcamp\n",
            "AI\n",
            "37\n",
            "38\n",
            "AI\n",
            "Bootcamp\n",
            "41\n",
            "AI\n",
            "43\n",
            "44\n",
            "AI Bootcamp\n",
            "46\n",
            "47\n",
            "AI\n",
            "49\n",
            "Bootcamp\n"
          ]
        }
      ]
    },
    {
      "cell_type": "markdown",
      "source": [
        "### **Task 2**: List Comprehensions and Functions\n",
        "\n",
        "*Instruction*: Given a list of numbers, square only the even numbers using a list comprehension and define a function that returns the result."
      ],
      "metadata": {
        "id": "8YMADBQmDhHU"
      }
    },
    {
      "cell_type": "code",
      "execution_count": null,
      "metadata": {
        "colab": {
          "base_uri": "https://localhost:8080/"
        },
        "id": "sPfpD1yF4LTO",
        "outputId": "95edd37b-81e1-4722-f831-5ad8b2db522d"
      },
      "outputs": [
        {
          "output_type": "stream",
          "name": "stdout",
          "text": [
            "[4, 16, 36]\n"
          ]
        }
      ],
      "source": [
        "def square_evens(numbers):\n",
        "    return [x ** 2 for x in numbers if x % 2 == 0]\n",
        "\n",
        "print(square_evens([1, 2, 3, 4, 5, 6]))  # Output: [4, 16, 36]\n"
      ]
    },
    {
      "cell_type": "markdown",
      "source": [
        "## Section 2: Data Structures & File I/O"
      ],
      "metadata": {
        "id": "03CKwCBtDzRL"
      }
    },
    {
      "cell_type": "markdown",
      "source": [
        "### **Task 3**: Word Frequency from a File\n",
        "\n",
        "*Instruction*: Read the provided text file (Sample_For_Task1.txt) and return the 5 most common words (ignoring punctuation and case)."
      ],
      "metadata": {
        "id": "oh1W_9m5DuzF"
      }
    },
    {
      "cell_type": "code",
      "source": [
        "from collections import Counter\n",
        "\n",
        "def top_5_words(filepath):\n",
        "    # Your code here\n",
        "    pass\n",
        "\n",
        "top_5_words('sample.txt')\n"
      ],
      "metadata": {
        "id": "SQTsWR6GDn6e",
        "colab": {
          "base_uri": "https://localhost:8080/"
        },
        "outputId": "373c5360-12cc-4b0e-e56d-813c18ef0e86"
      },
      "execution_count": null,
      "outputs": [
        {
          "output_type": "stream",
          "name": "stdout",
          "text": [
            "Error: File not found. Please check the filename and path.\n"
          ]
        }
      ]
    },
    {
      "cell_type": "markdown",
      "source": [
        "## Section 3: NumPy & pandas"
      ],
      "metadata": {
        "id": "mVV1BgZvEE3a"
      }
    },
    {
      "cell_type": "markdown",
      "source": [
        "### **Task 4**: NumPy Matrix Magic\n",
        "\n",
        "*Instruction*: Create a 5x5 matrix with random integers from 1 to 10. Replace all elements greater than 5 with 0."
      ],
      "metadata": {
        "id": "opUK7Z7LEIr4"
      }
    },
    {
      "cell_type": "code",
      "source": [
        "def matrix_transform():\n",
        "  matrix = np.random.randint(1, 11, size=(5, 5))\n",
        "  transformed_matrix = np.where(matrix > 5, 0, matrix)\n",
        "  print(\"Original Matrix:\\n\", matrix)\n",
        "  print(\"\\nTransformed Matrix:\\n\", transformed_matrix)\n",
        "  return transformed_matrix\n",
        "matrix_transform()"
      ],
      "metadata": {
        "colab": {
          "base_uri": "https://localhost:8080/"
        },
        "id": "bfOTWKshVQnr",
        "outputId": "4d672f41-621a-47a0-c061-2df6ab3f1bef"
      },
      "execution_count": null,
      "outputs": [
        {
          "output_type": "stream",
          "name": "stdout",
          "text": [
            "Original Matrix:\n",
            " [[10  2  5  1  1]\n",
            " [ 3  2  4  7  6]\n",
            " [ 3  7  5  2  8]\n",
            " [ 7  2  5  2  3]\n",
            " [10  3  2  9  3]]\n",
            "\n",
            "Transformed Matrix:\n",
            " [[0 2 5 1 1]\n",
            " [3 2 4 0 0]\n",
            " [3 0 5 2 0]\n",
            " [0 2 5 2 3]\n",
            " [0 3 2 0 3]]\n"
          ]
        },
        {
          "output_type": "execute_result",
          "data": {
            "text/plain": [
              "array([[0, 2, 5, 1, 1],\n",
              "       [3, 2, 4, 0, 0],\n",
              "       [3, 0, 5, 2, 0],\n",
              "       [0, 2, 5, 2, 3],\n",
              "       [0, 3, 2, 0, 3]])"
            ]
          },
          "metadata": {},
          "execution_count": 13
        }
      ]
    },
    {
      "cell_type": "markdown",
      "source": [
        "### **Task 5**: pandas DataFrame Manipulation\n",
        "\n",
        "*Instruction*: Given the following dictionary, convert it into a DataFrame, calculate the average score per student, and add it as a new column."
      ],
      "metadata": {
        "id": "YuFv3sE6ET9d"
      }
    },
    {
      "cell_type": "code",
      "source": [
        "import pandas as pd\n",
        "\n",
        "# Original data\n",
        "data = {\n",
        "    'Name': ['Alice', 'Bob', 'Charlie'],\n",
        "    'Math': [85, 78, 92],\n",
        "    'Science': [90, 88, 84],\n",
        "    'English': [87, 85, 80]\n",
        "}\n",
        "\n",
        "df = pd.DataFrame(data)\n",
        "\n",
        "df['Average'] = df[['Math', 'Science', 'English']].mean(axis=1)\n",
        "\n",
        "print(df)\n"
      ],
      "metadata": {
        "id": "horbXH8iETuH",
        "colab": {
          "base_uri": "https://localhost:8080/"
        },
        "outputId": "b2e4b1f9-80a6-420b-bc8b-042c3e3d6e22"
      },
      "execution_count": null,
      "outputs": [
        {
          "output_type": "stream",
          "name": "stdout",
          "text": [
            "      Name  Math  Science  English    Average\n",
            "0    Alice    85       90       87  87.333333\n",
            "1      Bob    78       88       85  83.666667\n",
            "2  Charlie    92       84       80  85.333333\n"
          ]
        }
      ]
    },
    {
      "cell_type": "markdown",
      "source": [
        "## Section 4: Visualization & Logic"
      ],
      "metadata": {
        "id": "GNO0DPi3EpgF"
      }
    },
    {
      "cell_type": "markdown",
      "source": [
        "### **Task 6**: Simple Data Visualization\n",
        "\n",
        "*Instruction*: Use matplotlib to create a bar chart showing the average score per subject from the DataFrame in the previous task."
      ],
      "metadata": {
        "id": "W74DNGaJEtdj"
      }
    },
    {
      "cell_type": "code",
      "source": [
        "import pandas as pd\n",
        "import matplotlib.pyplot as plt\n",
        "\n",
        "# Data\n",
        "data = {\n",
        "    'Name': ['Alice', 'Bob', 'Charlie'],\n",
        "    'Math': [85, 78, 92],\n",
        "    'Science': [90, 88, 84],\n",
        "    'English': [87, 85, 80]\n",
        "}\n",
        "\n",
        "df = pd.DataFrame(data)\n",
        "\n",
        "subject_averages = df[['Math', 'Science', 'English']].mean()\n",
        "\n",
        "\n",
        "plt.figure(figsize=(8, 5))\n",
        "plt.bar(subject_averages.index, subject_averages.values, color='skyblue')\n",
        "plt.title('Average Score per Subject')\n",
        "plt.xlabel('Subject')\n",
        "plt.ylabel('Average Score')\n",
        "plt.ylim(0, 100)\n",
        "plt.grid(axis='y', linestyle='--', alpha=0.7)\n",
        "\n",
        "plt.tight_layout()\n",
        "plt.show()\n"
      ],
      "metadata": {
        "id": "aM8iWEAXEOmE",
        "colab": {
          "base_uri": "https://localhost:8080/",
          "height": 507
        },
        "outputId": "7884a7c5-35fb-40d2-9892-3536283b7df7"
      },
      "execution_count": null,
      "outputs": [
        {
          "output_type": "display_data",
          "data": {
            "text/plain": [
              "<Figure size 800x500 with 1 Axes>"
            ],
            "image/png": "[encoded data removed]"
          },
          "metadata": {}
        }
      ]
    },
    {
      "cell_type": "markdown",
      "source": [
        "## Section 5: Mini-Project Challenge"
      ],
      "metadata": {
        "id": "yFxPFagsE9mS"
      }
    },
    {
      "cell_type": "markdown",
      "source": [
        "### **Task 7**: Build a Mini Calculator with Exception Handling\n",
        "\n",
        "*Instruction*: Write a function that takes two numbers and an operator as input (+, -, *, /). Return the result, and handle divide-by-zero and invalid operator cases with appropriate error messages."
      ],
      "metadata": {
        "id": "IZwIOzHXFD1a"
      }
    },
    {
      "cell_type": "code",
      "source": [
        "def calculator(a, b, operator):\n",
        "    if operator == '+':\n",
        "        return a + b\n",
        "    elif operator == '-':\n",
        "        return a - b\n",
        "    elif operator == '*':\n",
        "        return a * b\n",
        "    elif operator == '/':\n",
        "        if b == 0:\n",
        "            return \"Error: Cannot divide by zero.\"\n",
        "        return a / b\n",
        "    else:\n",
        "        return \"Error: Invalid operator. Please use +, -, *, or /.\"\n",
        "\n",
        "# Example calls\n",
        "print(calculator(10, 0, '/'))\n",
        "print(calculator(10, 5, '+'))\n",
        "print(calculator(10, 2, '%'))\n"
      ],
      "metadata": {
        "id": "VpUFTR1JFDWk",
        "colab": {
          "base_uri": "https://localhost:8080/"
        },
        "outputId": "df4f4758-8c71-4140-9d5a-64d9d2ce1978"
      },
      "execution_count": null,
      "outputs": [
        {
          "output_type": "stream",
          "name": "stdout",
          "text": [
            "Error: Cannot divide by zero.\n",
            "15\n",
            "Error: Invalid operator. Please use +, -, *, or /.\n"
          ]
        }
      ]
    }
  ]
}